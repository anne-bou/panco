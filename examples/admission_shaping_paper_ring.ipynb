{
 "cells": [
  {
   "cell_type": "code",
   "execution_count": 25,
   "metadata": {
    "ExecuteTime": {
     "end_time": "2023-03-29T13:23:56.711019Z",
     "start_time": "2023-03-29T13:23:56.691894Z"
    },
    "execution": {
     "iopub.execute_input": "2024-11-26T13:34:23.055486Z",
     "iopub.status.busy": "2024-11-26T13:34:23.054486Z",
     "iopub.status.idle": "2024-11-26T13:34:23.057554Z",
     "shell.execute_reply": "2024-11-26T13:34:23.057554Z",
     "shell.execute_reply.started": "2024-11-26T13:34:23.055486Z"
    }
   },
   "outputs": [],
   "source": [
    "#!/usr/bin/env python3\n",
    "# -*- coding: utf-8 -*-\n",
    "#\n",
    "# This file is part of the panco project.\n",
    "# https://github.com/Huawei-Paris-Research-Center/Panco\n"
   ]
  },
  {
   "cell_type": "code",
   "execution_count": 2,
   "metadata": {
    "ExecuteTime": {
     "end_time": "2023-03-29T13:23:57.732058Z",
     "start_time": "2023-03-29T13:23:57.185078Z"
    },
    "execution": {
     "iopub.execute_input": "2024-11-26T13:28:22.042635Z",
     "iopub.status.busy": "2024-11-26T13:28:22.041640Z",
     "iopub.status.idle": "2024-11-26T13:28:22.525571Z",
     "shell.execute_reply": "2024-11-26T13:28:22.525571Z",
     "shell.execute_reply.started": "2024-11-26T13:28:22.042635Z"
    }
   },
   "outputs": [],
   "source": [
    "from IPython.display import clear_output\n",
    "\n",
    "import numpy as np\n",
    "import matplotlib. pyplot as plt\n",
    "\n",
    "from panco.descriptor.curves import RateLatency, TokenBucket\n",
    "from panco.descriptor.flow import Flow\n",
    "from panco.descriptor.server import Server\n",
    "from panco.descriptor.network import Network\n",
    "\n",
    "from panco.fifo.tfaLP import TfaLP\n",
    "from panco.fifo.admTFA import AdmTfa\n",
    "from panco.fifo.fifoLP import FifoLP\n",
    "\n",
    "# from PyLPbounds.Blind.blindLP import BlindLP"
   ]
  },
  {
   "cell_type": "code",
   "execution_count": 3,
   "metadata": {
    "ExecuteTime": {
     "end_time": "2023-03-29T13:23:57.842087Z",
     "start_time": "2023-03-29T13:23:57.828088Z"
    },
    "execution": {
     "iopub.execute_input": "2024-11-26T13:28:22.527577Z",
     "iopub.status.busy": "2024-11-26T13:28:22.526578Z",
     "iopub.status.idle": "2024-11-26T13:28:22.532501Z",
     "shell.execute_reply": "2024-11-26T13:28:22.532501Z",
     "shell.execute_reply.started": "2024-11-26T13:28:22.527577Z"
    }
   },
   "outputs": [],
   "source": [
    "def delay_shaper(ca, la, cs, ls):\n",
    "    if ca.sigma < la.sigma: \n",
    "        raise Exception('bad formatting')\n",
    "    if cs.sigma < ls.sigma: \n",
    "        raise Exception('bad formatting')\n",
    "    if cs.rho < ca.rho:\n",
    "        return np.inf\n",
    "    tau_a = max((ca.sigma - la.sigma) / (la.rho -  ca.rho), 0)\n",
    "    fa = ca.sigma + ca.rho * tau_a\n",
    "    tau_s =  max((cs.sigma - ls.sigma) / (ls.rho -  cs.rho), 0)\n",
    "    fs = cs.sigma + cs.rho * tau_s\n",
    "    d_a = max((fa - cs.sigma) / cs.rho, (fa - ls.sigma) / ls.rho) - tau_a\n",
    "    d_s = tau_s - max((fs - ca.sigma) / ca.rho, (fs - la.sigma) / la.rho)\n",
    "    d_0 = max((la.sigma - cs.sigma) / cs.rho, (la.sigma - ls.sigma) / ls.rho)\n",
    "    return max(d_a, d_s, d_0, 0)"
   ]
  },
  {
   "cell_type": "markdown",
   "metadata": {},
   "source": [
    "# Topology"
   ]
  },
  {
   "cell_type": "markdown",
   "metadata": {},
   "source": [
    "\n",
    "## Upstream flows"
   ]
  },
  {
   "cell_type": "markdown",
   "metadata": {},
   "source": [
    "- at each end-station: 4 packets every 1 ms each, length 1kb: arrival curve $\\alpha_{es}(t) = 4 \\cdot 10^3 + 10^6 t$\n",
    "- arrivals shaped at 1Gbps: $\\sigma_{es}(t) = 10 ^9t$\n",
    "- 8 end stations: $\\alpha_{l} = 8(\\alpha_{es} \\land \\sigma_{es})$\n",
    "- shaping at the station: $\\sigma(t) = b + rt$\n",
    "- arrival curve after  the station: $\\alpha_l \\land \\sigma$\n",
    "- shaping at 2 Gbps at ring: $\\sigma_{f} = 2\\cdot 10^9t$\n",
    "- arrival curve $\\alpha = 8\\alpha_{es} \\land \\sigma \\land \\sigma_f$. "
   ]
  },
  {
   "cell_type": "markdown",
   "metadata": {
    "ExecuteTime": {
     "end_time": "2023-03-20T15:23:20.059812Z",
     "start_time": "2023-03-20T15:23:20.052808Z"
    }
   },
   "source": [
    "***Delay in the admission chip:***\n",
    "- shaping delay: $hDev(\\alpha_l, \\sigma\\land \\sigma_f)$"
   ]
  },
  {
   "cell_type": "code",
   "execution_count": 4,
   "metadata": {
    "ExecuteTime": {
     "end_time": "2023-03-29T13:29:20.411974Z",
     "start_time": "2023-03-29T13:29:20.402942Z"
    },
    "execution": {
     "iopub.execute_input": "2024-11-26T13:28:22.534508Z",
     "iopub.status.busy": "2024-11-26T13:28:22.534508Z",
     "iopub.status.idle": "2024-11-26T13:28:22.542435Z",
     "shell.execute_reply": "2024-11-26T13:28:22.542435Z",
     "shell.execute_reply.started": "2024-11-26T13:28:22.534508Z"
    }
   },
   "outputs": [
    {
     "name": "stdout",
     "output_type": "stream",
     "text": [
      "16000000.0\n"
     ]
    }
   ],
   "source": [
    "PACKET = 1000\n",
    "N_ES = 4\n",
    "## we assume 4 ES go to each PLC\n",
    "SIGMA_ES = 4 * N_ES * PACKET\n",
    "\n",
    "PERIOD = 0.001\n",
    "RHO_ES = 4 * N_ES * PACKET / PERIOD\n",
    "SH_ES = N_ES * 10 ** 9\n",
    "SIGMA = PACKET\n",
    "U = 1.2\n",
    "RHO = U * 2 * RHO_ES  # U is a paramater >1\n",
    "SH_LSW = 2 * 10 ** 9\n",
    "print(RHO_ES)"
   ]
  },
  {
   "cell_type": "code",
   "execution_count": 5,
   "metadata": {
    "ExecuteTime": {
     "end_time": "2023-03-29T13:29:21.156785Z",
     "start_time": "2023-03-29T13:29:21.147608Z"
    },
    "execution": {
     "iopub.execute_input": "2024-11-26T13:28:22.544442Z",
     "iopub.status.busy": "2024-11-26T13:28:22.543440Z",
     "iopub.status.idle": "2024-11-26T13:28:22.547932Z",
     "shell.execute_reply": "2024-11-26T13:28:22.547932Z",
     "shell.execute_reply.started": "2024-11-26T13:28:22.544442Z"
    }
   },
   "outputs": [],
   "source": [
    "ARRIVAL_CURVE_UP = TokenBucket(SIGMA_ES, RHO_ES)\n",
    "LINK_ES = TokenBucket(PACKET, SH_ES)\n",
    "SHAPER = TokenBucket(2 * SIGMA, RHO)\n",
    "LINK_LSW = TokenBucket(PACKET, SH_LSW)"
   ]
  },
  {
   "cell_type": "code",
   "execution_count": 6,
   "metadata": {
    "ExecuteTime": {
     "end_time": "2023-03-29T13:29:22.028398Z",
     "start_time": "2023-03-29T13:29:22.009296Z"
    },
    "execution": {
     "iopub.execute_input": "2024-11-26T13:28:22.549942Z",
     "iopub.status.busy": "2024-11-26T13:28:22.548950Z",
     "iopub.status.idle": "2024-11-26T13:28:22.559753Z",
     "shell.execute_reply": "2024-11-26T13:28:22.558746Z",
     "shell.execute_reply.started": "2024-11-26T13:28:22.549942Z"
    }
   },
   "outputs": [
    {
     "data": {
      "text/plain": [
       "0.0003623870481927711"
      ]
     },
     "execution_count": 6,
     "metadata": {},
     "output_type": "execute_result"
    }
   ],
   "source": [
    "delay_shaper(ARRIVAL_CURVE_UP, LINK_ES, SHAPER, LINK_LSW)"
   ]
  },
  {
   "cell_type": "code",
   "execution_count": 7,
   "metadata": {
    "execution": {
     "iopub.execute_input": "2024-11-26T13:28:22.560753Z",
     "iopub.status.busy": "2024-11-26T13:28:22.560753Z",
     "iopub.status.idle": "2024-11-26T13:28:22.564909Z",
     "shell.execute_reply": "2024-11-26T13:28:22.564909Z",
     "shell.execute_reply.started": "2024-11-26T13:28:22.560753Z"
    }
   },
   "outputs": [],
   "source": [
    "tab_u = [1 + 0.01 * i for i in range(101)]\n",
    "tab_shaping_delay = []\n",
    "for u in tab_u:\n",
    "    shaper = TokenBucket(SIGMA, u * 2 * RHO_ES)\n",
    "    tab_shaping_delay += [delay_shaper(ARRIVAL_CURVE_UP, LINK_ES, shaper, LINK_LSW)]\n"
   ]
  },
  {
   "cell_type": "markdown",
   "metadata": {},
   "source": [
    "## Downstream flows"
   ]
  },
  {
   "cell_type": "code",
   "execution_count": 8,
   "metadata": {
    "ExecuteTime": {
     "end_time": "2023-03-29T13:30:22.589786Z",
     "start_time": "2023-03-29T13:30:22.580820Z"
    },
    "execution": {
     "iopub.execute_input": "2024-11-26T13:28:22.565916Z",
     "iopub.status.busy": "2024-11-26T13:28:22.565916Z",
     "iopub.status.idle": "2024-11-26T13:28:22.572528Z",
     "shell.execute_reply": "2024-11-26T13:28:22.571520Z",
     "shell.execute_reply.started": "2024-11-26T13:28:22.565916Z"
    }
   },
   "outputs": [],
   "source": [
    "SIGMA_D = 2 * PACKET\n",
    "U_D = 2\n",
    "RHO_D = U_D * 20 * N_ES * PACKET / PERIOD # (80 packets per period, for each PLC)\n"
   ]
  },
  {
   "cell_type": "markdown",
   "metadata": {},
   "source": [
    "## Arrival curves in the ring network"
   ]
  },
  {
   "cell_type": "code",
   "execution_count": 9,
   "metadata": {
    "ExecuteTime": {
     "end_time": "2023-03-29T13:33:52.851441Z",
     "start_time": "2023-03-29T13:33:52.835564Z"
    },
    "execution": {
     "iopub.execute_input": "2024-11-26T13:28:22.573527Z",
     "iopub.status.busy": "2024-11-26T13:28:22.573527Z",
     "iopub.status.idle": "2024-11-26T13:28:22.579063Z",
     "shell.execute_reply": "2024-11-26T13:28:22.579063Z",
     "shell.execute_reply.started": "2024-11-26T13:28:22.573527Z"
    }
   },
   "outputs": [],
   "source": [
    "SHAPER_UP = [SHAPER]  \n",
    "# down: per destination, and not per end-station. this can be modified\n",
    "ARRIVAL_CURVE_DOWN = TokenBucket(N_ES * PACKET, N_ES * PACKET / PERIOD)\n",
    "SHAPER_DOWN = [TokenBucket(SIGMA_D, RHO_D)] # global shaper"
   ]
  },
  {
   "cell_type": "code",
   "execution_count": 10,
   "metadata": {
    "execution": {
     "iopub.execute_input": "2024-11-26T13:28:22.580069Z",
     "iopub.status.busy": "2024-11-26T13:28:22.580069Z",
     "iopub.status.idle": "2024-11-26T13:28:22.585924Z",
     "shell.execute_reply": "2024-11-26T13:28:22.584918Z",
     "shell.execute_reply.started": "2024-11-26T13:28:22.580069Z"
    }
   },
   "outputs": [
    {
     "name": "stdout",
     "output_type": "stream",
     "text": [
      "16000 + 16000000.0t\n"
     ]
    }
   ],
   "source": [
    "print(ARRIVAL_CURVE_UP)"
   ]
  },
  {
   "cell_type": "code",
   "execution_count": 11,
   "metadata": {
    "execution": {
     "iopub.execute_input": "2024-11-26T13:28:22.586924Z",
     "iopub.status.busy": "2024-11-26T13:28:22.585924Z",
     "iopub.status.idle": "2024-11-26T13:28:22.591760Z",
     "shell.execute_reply": "2024-11-26T13:28:22.590750Z",
     "shell.execute_reply.started": "2024-11-26T13:28:22.586924Z"
    }
   },
   "outputs": [
    {
     "name": "stdout",
     "output_type": "stream",
     "text": [
      "[2000 + 38400000.0t]\n"
     ]
    }
   ],
   "source": [
    "print(SHAPER_UP)"
   ]
  },
  {
   "cell_type": "code",
   "execution_count": 12,
   "metadata": {
    "execution": {
     "iopub.execute_input": "2024-11-26T13:28:22.593780Z",
     "iopub.status.busy": "2024-11-26T13:28:22.592761Z",
     "iopub.status.idle": "2024-11-26T13:28:22.599161Z",
     "shell.execute_reply": "2024-11-26T13:28:22.598138Z",
     "shell.execute_reply.started": "2024-11-26T13:28:22.593780Z"
    }
   },
   "outputs": [
    {
     "name": "stdout",
     "output_type": "stream",
     "text": [
      "4000 + 4000000.0t\n"
     ]
    }
   ],
   "source": [
    "print(ARRIVAL_CURVE_DOWN)"
   ]
  },
  {
   "cell_type": "code",
   "execution_count": 13,
   "metadata": {
    "execution": {
     "iopub.execute_input": "2024-11-26T13:28:22.601144Z",
     "iopub.status.busy": "2024-11-26T13:28:22.600144Z",
     "iopub.status.idle": "2024-11-26T13:28:22.604511Z",
     "shell.execute_reply": "2024-11-26T13:28:22.604511Z",
     "shell.execute_reply.started": "2024-11-26T13:28:22.601144Z"
    }
   },
   "outputs": [
    {
     "name": "stdout",
     "output_type": "stream",
     "text": [
      "[2000 + 160000000.0t]\n"
     ]
    }
   ],
   "source": [
    "print(SHAPER_DOWN)"
   ]
  },
  {
   "cell_type": "markdown",
   "metadata": {},
   "source": [
    "## Ring of FPGA"
   ]
  },
  {
   "cell_type": "code",
   "execution_count": 14,
   "metadata": {
    "ExecuteTime": {
     "end_time": "2023-03-29T13:30:28.022979Z",
     "start_time": "2023-03-29T13:30:28.016842Z"
    },
    "execution": {
     "iopub.execute_input": "2024-11-26T13:28:22.605517Z",
     "iopub.status.busy": "2024-11-26T13:28:22.605517Z",
     "iopub.status.idle": "2024-11-26T13:28:22.612316Z",
     "shell.execute_reply": "2024-11-26T13:28:22.611309Z",
     "shell.execute_reply.started": "2024-11-26T13:28:22.605517Z"
    }
   },
   "outputs": [],
   "source": [
    "## Servers\n",
    "NUM_FPGA = 20\n",
    "FPGA_RATE = 10 ** 9\n",
    "FPGA_LATENCY = 5 * 10** (-7)\n",
    "FPGA_SERVER = Server([RateLatency(FPGA_RATE, FPGA_LATENCY)], [TokenBucket(0, FPGA_RATE)])\n",
    "SERVERS = NUM_FPGA * [FPGA_SERVER]"
   ]
  },
  {
   "cell_type": "code",
   "execution_count": 15,
   "metadata": {
    "ExecuteTime": {
     "end_time": "2023-03-29T13:30:31.702116Z",
     "start_time": "2023-03-29T13:30:31.690118Z"
    },
    "execution": {
     "iopub.execute_input": "2024-11-26T13:28:22.613316Z",
     "iopub.status.busy": "2024-11-26T13:28:22.613316Z",
     "iopub.status.idle": "2024-11-26T13:28:22.619455Z",
     "shell.execute_reply": "2024-11-26T13:28:22.619455Z",
     "shell.execute_reply.started": "2024-11-26T13:28:22.613316Z"
    }
   },
   "outputs": [],
   "source": [
    "LIST_SERVERS = list(range(NUM_FPGA))\n",
    "UP_PATHS = [list(range(i, NUM_FPGA)) for i in range(NUM_FPGA)] +\\\n",
    "           [list(range(i + 1, NUM_FPGA)) + [0] for i in range(NUM_FPGA)]\n",
    "DOWN_PATHS = [list(range(i + 1)) for i in range(NUM_FPGA)] +\\\n",
    "             [list(range(1, i + 2)) for i in range(NUM_FPGA - 1)] + [list(range(1, NUM_FPGA)) + [0]]"
   ]
  },
  {
   "cell_type": "code",
   "execution_count": 16,
   "metadata": {
    "ExecuteTime": {
     "end_time": "2023-03-29T13:34:24.161026Z",
     "start_time": "2023-03-29T13:34:24.147057Z"
    },
    "execution": {
     "iopub.execute_input": "2024-11-26T13:28:22.621463Z",
     "iopub.status.busy": "2024-11-26T13:28:22.620461Z",
     "iopub.status.idle": "2024-11-26T13:28:22.625741Z",
     "shell.execute_reply": "2024-11-26T13:28:22.625741Z",
     "shell.execute_reply.started": "2024-11-26T13:28:22.621463Z"
    }
   },
   "outputs": [],
   "source": [
    "FLOWS_UP = [Flow([ARRIVAL_CURVE_UP], p) for p in UP_PATHS]\n",
    "FLOWS_DOWN = [Flow([ARRIVAL_CURVE_DOWN], p) for p in DOWN_PATHS]\n",
    "\n",
    "FLOWS = FLOWS_UP + FLOWS_DOWN"
   ]
  },
  {
   "cell_type": "code",
   "execution_count": 17,
   "metadata": {
    "ExecuteTime": {
     "end_time": "2023-03-29T13:34:24.880335Z",
     "start_time": "2023-03-29T13:34:24.868234Z"
    },
    "execution": {
     "iopub.execute_input": "2024-11-26T13:28:22.626756Z",
     "iopub.status.busy": "2024-11-26T13:28:22.626756Z",
     "iopub.status.idle": "2024-11-26T13:28:22.631725Z",
     "shell.execute_reply": "2024-11-26T13:28:22.631725Z",
     "shell.execute_reply.started": "2024-11-26T13:28:22.626756Z"
    }
   },
   "outputs": [],
   "source": [
    "NETWORK = Network(SERVERS, FLOWS)"
   ]
  },
  {
   "cell_type": "code",
   "execution_count": 18,
   "metadata": {
    "ExecuteTime": {
     "end_time": "2023-03-29T14:14:48.312323Z",
     "start_time": "2023-03-29T14:14:44.698444Z"
    },
    "execution": {
     "iopub.execute_input": "2024-11-26T13:28:22.633733Z",
     "iopub.status.busy": "2024-11-26T13:28:22.632733Z",
     "iopub.status.idle": "2024-11-26T13:28:23.354307Z",
     "shell.execute_reply": "2024-11-26T13:28:23.353289Z",
     "shell.execute_reply.started": "2024-11-26T13:28:22.633733Z"
    }
   },
   "outputs": [
    {
     "data": {
      "text/plain": [
       "0.0015515628"
      ]
     },
     "execution_count": 18,
     "metadata": {},
     "output_type": "execute_result"
    }
   ],
   "source": [
    "TFA = TfaLP(NETWORK)\n",
    "max(TFA.all_delays)"
   ]
  },
  {
   "cell_type": "code",
   "execution_count": 19,
   "metadata": {
    "ExecuteTime": {
     "end_time": "2023-03-29T14:56:12.409170Z",
     "start_time": "2023-03-29T14:56:12.388082Z"
    },
    "execution": {
     "iopub.execute_input": "2024-11-26T13:28:23.356295Z",
     "iopub.status.busy": "2024-11-26T13:28:23.355302Z",
     "iopub.status.idle": "2024-11-26T13:31:55.647532Z",
     "shell.execute_reply": "2024-11-26T13:31:55.646522Z",
     "shell.execute_reply.started": "2024-11-26T13:28:23.356295Z"
    }
   },
   "outputs": [],
   "source": [
    "tab_delay_no_shaping = []\n",
    "tab_delay_shaping_no_prop = []\n",
    "tab_delay_shaping_prop = []\n",
    "for (i,u) in enumerate(tab_u):\n",
    "    shaper = TokenBucket(SIGMA, u * 2 * RHO_ES)\n",
    "    ARRIVAL_SHAPING_UP = [(0, [0, 39], [shaper])] + [(i, [i, 19 + i], [shaper]) for i in range(1, 20)]\n",
    "    ARRIVAL_SHAPING_DOWN = [(0, list(range(40, 60)), SHAPER_DOWN), (1, list(range(60, 80)), SHAPER_DOWN)]\n",
    "    NETWORK = Network(SERVERS, FLOWS)\n",
    "    tab_delay_no_shaping += [max(TfaLP(NETWORK).all_delays)]\n",
    "    NETWORK = Network(SERVERS, FLOWS, ARRIVAL_SHAPING_UP + ARRIVAL_SHAPING_DOWN)\n",
    "    tab_delay_shaping_no_prop += [max(TfaLP(NETWORK).all_delays)]\n",
    "    tab_delay_shaping_prop += [max(AdmTfa(NETWORK).all_delays)]\n",
    "    print('iteration: ', i, '/ ', len(tab_u))\n",
    "clear_output()"
   ]
  },
  {
   "cell_type": "code",
   "execution_count": 20,
   "metadata": {
    "execution": {
     "iopub.execute_input": "2024-11-26T13:31:55.648532Z",
     "iopub.status.busy": "2024-11-26T13:31:55.648532Z",
     "iopub.status.idle": "2024-11-26T13:31:55.652822Z",
     "shell.execute_reply": "2024-11-26T13:31:55.651813Z",
     "shell.execute_reply.started": "2024-11-26T13:31:55.648532Z"
    }
   },
   "outputs": [],
   "source": [
    "tab_rates = [u * 2 * RHO_ES * 1e-6 for u in tab_u]"
   ]
  },
  {
   "cell_type": "code",
   "execution_count": 21,
   "metadata": {
    "execution": {
     "iopub.execute_input": "2024-11-26T13:31:55.653836Z",
     "iopub.status.busy": "2024-11-26T13:31:55.653836Z",
     "iopub.status.idle": "2024-11-26T13:31:56.127538Z",
     "shell.execute_reply": "2024-11-26T13:31:56.127538Z",
     "shell.execute_reply.started": "2024-11-26T13:31:55.653836Z"
    }
   },
   "outputs": [
    {
     "name": "stderr",
     "output_type": "stream",
     "text": [
      "The PostScript backend does not support transparency; partially transparent artists will be rendered opaque.\n"
     ]
    },
    {
     "data": {
      "image/png": "[encoded data removed]",
      "text/plain": [
       "<Figure size 640x480 with 1 Axes>"
      ]
     },
     "metadata": {},
     "output_type": "display_data"
    }
   ],
   "source": [
    "plt.xlabel('shaping rate (Mbps)')\n",
    "plt.ylabel('end-to-end delays (ms)')\n",
    "plt.plot(tab_rates, [tab_delay_no_shaping[i] * 1e3 for i in range(len(tab_u))], 'y', label=\"no shaping\")\n",
    "plt.plot(tab_rates, [tab_delay_shaping_no_prop[i] * 1e3 + tab_shaping_delay[i] * 1e3 for i in range(len(tab_u))], 'b-.', label=\"no shaping propagation\")\n",
    "plt.plot(tab_rates,  [tab_delay_shaping_prop[i] * 1e3 + tab_shaping_delay[i] * 1e3 for i in range(len(tab_u))], 'r', label=\"shaping propagation\")\n",
    "plt.plot(tab_rates,  [tab_delay_shaping_prop[i] * 1e3  for i in range(len(tab_u))], 'r--',label=\"ring delay\")\n",
    "plt.plot(tab_rates, [tab_shaping_delay[i] * 1e3 for i in range(len(tab_u))], 'r:',label=\"shaping delay\")\n",
    "plt.legend(loc='lower right')\n",
    "plt.xlim([32, 64])\n",
    "plt.savefig('ring2f.eps', format='eps')\n",
    "plt.show()"
   ]
  },
  {
   "cell_type": "code",
   "execution_count": 22,
   "metadata": {
    "execution": {
     "iopub.execute_input": "2024-11-26T13:31:56.128544Z",
     "iopub.status.busy": "2024-11-26T13:31:56.128544Z",
     "iopub.status.idle": "2024-11-26T13:31:56.918541Z",
     "shell.execute_reply": "2024-11-26T13:31:56.918541Z",
     "shell.execute_reply.started": "2024-11-26T13:31:56.128544Z"
    }
   },
   "outputs": [
    {
     "data": {
      "text/plain": [
       "0.0015515628"
      ]
     },
     "execution_count": 22,
     "metadata": {},
     "output_type": "execute_result"
    }
   ],
   "source": [
    "NETWORK = Network(SERVERS, FLOWS)\n",
    "TFA = TfaLP(NETWORK)\n",
    "max(TFA.all_delays)"
   ]
  },
  {
   "cell_type": "code",
   "execution_count": 23,
   "metadata": {
    "ExecuteTime": {
     "end_time": "2023-03-29T14:56:36.615556Z",
     "start_time": "2023-03-29T14:56:36.170924Z"
    },
    "execution": {
     "iopub.execute_input": "2024-11-26T13:31:56.920549Z",
     "iopub.status.busy": "2024-11-26T13:31:56.919549Z",
     "iopub.status.idle": "2024-11-26T13:31:57.703183Z",
     "shell.execute_reply": "2024-11-26T13:31:57.703183Z",
     "shell.execute_reply.started": "2024-11-26T13:31:56.920549Z"
    }
   },
   "outputs": [
    {
     "data": {
      "text/plain": [
       "0.0012413582000000002"
      ]
     },
     "execution_count": 23,
     "metadata": {},
     "output_type": "execute_result"
    }
   ],
   "source": [
    "NETWORK = Network(SERVERS, FLOWS, ARRIVAL_SHAPING_UP + ARRIVAL_SHAPING_DOWN)\n",
    "TFA = TfaLP(NETWORK)\n",
    "max(TFA.all_delays)"
   ]
  },
  {
   "cell_type": "code",
   "execution_count": 24,
   "metadata": {
    "ExecuteTime": {
     "end_time": "2023-03-29T14:56:38.066406Z",
     "start_time": "2023-03-29T14:56:37.440352Z"
    },
    "execution": {
     "iopub.execute_input": "2024-11-26T13:31:57.705190Z",
     "iopub.status.busy": "2024-11-26T13:31:57.704192Z",
     "iopub.status.idle": "2024-11-26T13:31:58.564059Z",
     "shell.execute_reply": "2024-11-26T13:31:58.564059Z",
     "shell.execute_reply.started": "2024-11-26T13:31:57.705190Z"
    }
   },
   "outputs": [
    {
     "data": {
      "text/plain": [
       "0.0010720927"
      ]
     },
     "execution_count": 24,
     "metadata": {},
     "output_type": "execute_result"
    }
   ],
   "source": [
    "TFA = AdmTfa(NETWORK)\n",
    "max(TFA.all_delays)"
   ]
  },
  {
   "cell_type": "code",
   "execution_count": null,
   "metadata": {},
   "outputs": [],
   "source": []
  },
  {
   "cell_type": "code",
   "execution_count": null,
   "metadata": {},
   "outputs": [],
   "source": []
  },
  {
   "cell_type": "code",
   "execution_count": null,
   "metadata": {},
   "outputs": [],
   "source": []
  }
 ],
 "metadata": {
  "kernelspec": {
   "display_name": "Python 3 (ipykernel)",
   "language": "python",
   "name": "python3"
  },
  "language_info": {
   "codemirror_mode": {
    "name": "ipython",
    "version": 3
   },
   "file_extension": ".py",
   "mimetype": "text/x-python",
   "name": "python",
   "nbconvert_exporter": "python",
   "pygments_lexer": "ipython3",
   "version": "3.11.4"
  },
  "toc": {
   "base_numbering": 1,
   "nav_menu": {},
   "number_sections": true,
   "sideBar": true,
   "skip_h1_title": false,
   "title_cell": "Table of Contents",
   "title_sidebar": "Contents",
   "toc_cell": false,
   "toc_position": {},
   "toc_section_display": true,
   "toc_window_display": false
  }
 },
 "nbformat": 4,
 "nbformat_minor": 4
}
