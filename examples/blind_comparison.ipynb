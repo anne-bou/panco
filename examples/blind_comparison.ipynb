{
 "cells": [
  {
   "cell_type": "code",
   "execution_count": 1,
   "id": "528d6463",
   "metadata": {},
   "outputs": [],
   "source": [
    "# This file is part of PyLPbounds\n",
    "# Copyright © 2021 Huawei or/and its subsidiary(-ies). All right reserved\n",
    "# Author: \n",
    "#       Anne Bouillard <anne.bouillard@huawei.com>"
   ]
  },
  {
   "cell_type": "markdown",
   "id": "9bc77bf2",
   "metadata": {},
   "source": [
    "## Blind multiplexing: comparison of methods\n",
    "\n",
    "WE consider the simple case of tandem networks of differnt length  and cross traffic haing paths f different lenhts two (uniform for the tandem), and compare with different mathods: \n",
    "\n",
    "- SFA purely blind\n",
    "- SFA with pioritie, since it has been povd that thw static priority SDF (shortest to destination first) is the worst scheduling\n",
    "- PMOO\n",
    "- LP (linear programming techniques)\n",
    "\n",
    "As expected, they are listed from the worst to best approach"
   ]
  },
  {
   "cell_type": "code",
   "execution_count": 2,
   "id": "9078f499",
   "metadata": {},
   "outputs": [],
   "source": [
    "import numpy as np\n",
    "import random as rd\n",
    "import matplotlib\n",
    "import matplotlib.pyplot as plt\n",
    "import pickle\n",
    "\n",
    "\n",
    "from panco.descriptor.curves import TokenBucket, RateLatency\n",
    "from panco.descriptor.flow import Flow\n",
    "from panco.descriptor.server import Server\n",
    "from panco.descriptor.network import Network, reindexing\n",
    "from panco.fifo.tfaLP import TfaLP\n",
    "from panco.fifo.fifoLP import FifoLP\n",
    "from panco.blind.blindLP import BlindLP"
   ]
  },
  {
   "cell_type": "code",
   "execution_count": null,
   "id": "273eb64c",
   "metadata": {},
   "outputs": [],
   "source": []
  },
  {
   "cell_type": "code",
   "execution_count": 3,
   "id": "ad4b08ea",
   "metadata": {},
   "outputs": [],
   "source": [
    "def sfa_analysis(network: Network, foi):\n",
    "    residual_rate = np.inf * np.ones(network.num_flows)\n",
    "    residual_latency = np.zeros(network.num_flows)\n",
    "    sigma = [network.flows[i].arrival_curve[0].sigma for i in range(network.num_flows)]\n",
    "    for j in range(network.num_servers):\n",
    "        tot_rho = sum([network.flows[i].arrival_curve[0].rho for i in network.flows_in_server[j]])\n",
    "        tot_sigma = sum([sigma[i] for i in network.flows_in_server[j]])\n",
    "        # print(tot_sigma)\n",
    "        rate = network.servers[j].service_curve[0].rate\n",
    "        latency = network.servers[j].service_curve[0].latency\n",
    "        for i in network.flows_in_server[j]:\n",
    "            residual_rate[i] = min(residual_rate[i], \n",
    "                                   rate - tot_rho + \n",
    "                                      network.flows[i].arrival_curve[0].rho)\n",
    "            cur_lat = (tot_sigma - network.flows[i].arrival_curve[0].sigma + \n",
    "                                    rate * latency)/ (rate - tot_rho + network.flows[i].arrival_curve[0].rho)\n",
    "            residual_latency[i] += cur_lat\n",
    "            sigma[i] += network.flows[i].arrival_curve[0].rho * cur_lat\n",
    "    delay = []\n",
    "    for i in range(network.num_flows):\n",
    "        delay += [residual_latency[i] + network.flows[i].arrival_curve[0].sigma / residual_rate[i]]\n",
    "    return delay[foi]"
   ]
  },
  {
   "cell_type": "code",
   "execution_count": 4,
   "id": "d49205b3",
   "metadata": {},
   "outputs": [],
   "source": [
    "def sfa_prio_analysis(network: Network, foi):\n",
    "    residual_rate = np.inf * np.ones(network.num_flows)\n",
    "    residual_latency = np.zeros(network.num_flows)\n",
    "    sigma = [network.flows[i].arrival_curve[0].sigma for i in range(network.num_flows)]\n",
    "    for j in range(network.num_servers):\n",
    "        tot_rho = sum([network.flows[i].arrival_curve[0].rho for i in network.flows_in_server[j]])\n",
    "        tot_sigma = sum([sigma[i] for i in network.flows_in_server[j]])\n",
    "        # print(tot_sigma)\n",
    "        rate = network.servers[j].service_curve[0].rate\n",
    "        latency = network.servers[j].service_curve[0].latency\n",
    "        for i in network.flows_in_server[j]: \n",
    "            residual_rate_aux = rate - sum([network.flows[i].arrival_curve[0].rho \n",
    "                                            for k in network.flows_in_server[j] if k > i])\n",
    "            residual_rate[i] = min(residual_rate[i], residual_rate_aux)\n",
    "            sigma_aux = sum([sigma[k] for k in network.flows_in_server[j] if k > i])\n",
    "            cur_lat = (sigma_aux + rate * latency)/ (residual_rate_aux)\n",
    "            residual_latency[i] += cur_lat\n",
    "            sigma[i] += network.flows[i].arrival_curve[0].rho * cur_lat\n",
    "    delay = []\n",
    "    for i in range(network.num_flows):\n",
    "        delay += [residual_latency[i] + network.flows[i].arrival_curve[0].sigma / residual_rate[i]]\n",
    "    return delay[foi]"
   ]
  },
  {
   "cell_type": "code",
   "execution_count": 5,
   "id": "ee806b91",
   "metadata": {},
   "outputs": [],
   "source": [
    "def pmoo_analysis(network:Network, foi):\n",
    "    if not network.is_tree:\n",
    "        raise Exception('not a tree')\n",
    "    res_rates = []\n",
    "    arr_rates = []\n",
    "    for j in range(network.num_servers):\n",
    "        r = sum([network.flows[i].arrival_curve[0].rho for i in network.flows_in_server[j] if not i == foi])\n",
    "        arr_rates += [r]\n",
    "        res_rates += [network.servers[j].service_curve[0].rate - r]\n",
    "    residual_rate = min(res_rates)\n",
    "    latency = sum([network.servers[j].service_curve[0].latency * (1 + arr_rates[j] / residual_rate) \n",
    "                   for j in range(network.num_servers)]) + \\\n",
    "              sum([network.flows[i] .arrival_curve[0].sigma \n",
    "                   for i in range(network.num_flows) if not i == foi]) / residual_rate\n",
    "    return latency + network.flows[foi].arrival_curve[0].sigma / residual_rate"
   ]
  },
  {
   "cell_type": "code",
   "execution_count": 39,
   "id": "0f7175a0",
   "metadata": {},
   "outputs": [],
   "source": [
    "N = 51\n",
    "R1 = 10000000.\n",
    "R2 = 20000000.\n",
    "L = 0.001\n",
    "S = 1000.\n",
    "K = 1\n",
    "U = 0.9\n",
    "\n",
    "NETWORK_LIST = []\n",
    "SC1 = RateLatency(R1, L)\n",
    "MSC1 = TokenBucket(0, K * R1)\n",
    "SC2 = RateLatency(R2, L)\n",
    "MSC2 = TokenBucket(0, K * R2)\n",
    "AC = TokenBucket(S, U * R1 / 4)\n",
    "SERVER1 = Server([SC1], [MSC1])\n",
    "SERVER2 = Server([SC2], [MSC2])\n",
    "for n in range(1, N):\n",
    "    PATH = [[i for i in range(n)]] + [[i, i + 1, i + 2, i + 3] for i in range(n - 3)]\n",
    "    FLOWS = [Flow([AC], p) for p in PATH]\n",
    "    SERVERS = []\n",
    "    for j in range(n):\n",
    "        if j % 2 == 0:\n",
    "            SERVERS += [SERVER1]\n",
    "        else:\n",
    "            SERVERS += [SERVER2]\n",
    "    NETWORK_LIST +=  [(n, Network(SERVERS, FLOWS))]"
   ]
  },
  {
   "cell_type": "code",
   "execution_count": 40,
   "id": "399f39ed",
   "metadata": {},
   "outputs": [
    {
     "name": "stdout",
     "output_type": "stream",
     "text": [
      "1 \t 0.0011 \t 0.0011 \t 0.0011 \t 0.0011\n",
      "2 \t 0.0022124999999999996 \t 0.0021 \t 0.0021 \t 0.0021\n",
      "3 \t 0.0036878124999999997 \t 0.0031 \t 0.0031 \t 0.0031\n",
      "4 \t 0.008960720633985501 \t 0.006421626533393913 \t 0.005419354838709678 \t 0.005255792258064516\n",
      "5 \t 0.02316831856262362 \t 0.011214764416600825 \t 0.008818181818181819 \t 0.008335118181818183\n",
      "6 \t 0.06509219263529249 \t 0.018711389508025686 \t 0.01553846153846154 \t 0.013378212307692308\n",
      "7 \t 0.19068918275626842 \t 0.02687980870381582 \t 0.019615384615384614 \t 0.017980392307692307\n",
      "8 \t 1.0140190996293186 \t 0.05338711195170485 \t 0.059 \t 0.04397599\n",
      "9 \t 2.8989940762367037 \t 0.061555531147494985 \t 0.07 \t 0.048578170000000004\n",
      "10 \t 15.376495854636898 \t 0.08737052670307632 \t 0.081 \t 0.06470839\n",
      "11 \t 43.88741087847576 \t 0.09553894589886644 \t 0.092 \t 0.06931057\n",
      "12 \t 232.65352497313526 \t 0.12135394145444778 \t 0.103 \t 0.08544078\n",
      "13 \t 663.928072151822 \t 0.1295223606502379 \t 0.114 \t 0.09004296\n",
      "14 \t 3519.3679706213916 \t 0.15533735620581923 \t 0.125 \t 0.10617318\n",
      "15 \t 10043.158726675467 \t 0.16350577540160935 \t 0.136 \t 0.11077536\n",
      "16 \t 53236.77200783109 \t 0.18932077095719071 \t 0.14700000000000002 \t 0.12690557\n",
      "17 \t 151920.69452174692 \t 0.19748919015298083 \t 0.15800000000000003 \t 0.13150775\n",
      "18 \t 805300.8371390982 \t 0.2233041857085622 \t 0.16899999999999998 \t 0.14763796\n",
      "19 \t 2298070.4745943462 \t 0.2314726049043523 \t 0.18 \t 0.15224014\n",
      "20 \t 12181605.861813052 \t 0.25728760045993365 \t 0.191 \t 0.16837036\n",
      "21 \t 34762398.518587686 \t 0.26545601965572385 \t 0.20199999999999999 \t 0.17297254\n",
      "22 \t 184268429.26491696 \t 0.29127101521130516 \t 0.213 \t 0.18910275000000001\n",
      "23 \t 525843032.76878935 \t 0.2994394344070953 \t 0.224 \t 0.19370493\n",
      "24 \t 2787387343.9040265 \t 0.3252544299626766 \t 0.235 \t 0.20983515\n",
      "25 \t 7954310026.052263 \t 0.33342284915846676 \t 0.246 \t 0.21443733\n",
      "26 \t 42164185344.72015 \t 0.35923784471404807 \t 0.257 \t 0.23056754\n",
      "27 \t 120323069903.00873 \t 0.3674062639098382 \t 0.268 \t 0.23516972\n",
      "28 \t 637808207627.8807 \t 0.3932212594654195 \t 0.279 \t 0.25129994\n",
      "29 \t 1820100185114.1963 \t 0.40138967866120967 \t 0.29000000000000004 \t 0.25590212\n",
      "30 \t 9647982200808.037 \t 0.427204674216791 \t 0.30100000000000005 \t 0.27203233\n",
      "31 \t 27532248691152.523 \t 0.4353730934125811 \t 0.31200000000000006 \t 0.27663451\n",
      "32 \t 145942870339191.22 \t 0.46118808896816244 \t 0.323 \t 0.29276472\n",
      "33 \t 416474172241187.6 \t 0.4693565081639526 \t 0.33399999999999996 \t 0.2973669\n",
      "34 \t 2207645180052064.0 \t 0.4951715037195339 \t 0.345 \t 0.31349712\n",
      "35 \t 6299911717698551.0 \t 0.503339922915324 \t 0.356 \t 0.3180993\n",
      "36 \t 3.339455520971987e+16 \t 0.5291549184709052 \t 0.367 \t 0.33422951\n",
      "37 \t 9.529735646562726e+16 \t 0.5373233376666955 \t 0.378 \t 0.33883169\n",
      "38 \t 5.051519726683291e+17 \t 0.5631383332222767 \t 0.389 \t 0.35496191\n",
      "39 \t 1.4415418114231076e+18 \t 0.5713067524180669 \t 0.39999999999999997 \t 0.35956409\n",
      "40 \t 7.641320984458918e+18 \t 0.5971217479736481 \t 0.411 \t 0.3756943\n",
      "41 \t 2.18058807835928e+19 \t 0.6052901671694384 \t 0.422 \t 0.38029648\n",
      "42 \t 1.1558855462664813e+20 \t 0.6311051627250196 \t 0.433 \t 0.3964267\n",
      "43 \t 3.29852684799233e+20 \t 0.6392735819208099 \t 0.444 \t 0.40102888\n",
      "44 \t 1.748482230736141e+21 \t 0.665088577476391 \t 0.455 \t 0.41715909\n",
      "45 \t 4.989607837860311e+21 \t 0.6732569966721813 \t 0.46599999999999997 \t 0.42176127\n",
      "46 \t 2.644889990254466e+22 \t 0.6990719922277625 \t 0.477 \t 0.43789149\n",
      "47 \t 7.547668254023844e+22 \t 0.7072404114235528 \t 0.488 \t 0.44249367\n",
      "48 \t 4.00086597254298e+23 \t 0.733055406979134 \t 0.499 \t 0.45862388\n",
      "49 \t 1.141718907056002e+24 \t 0.7412238261749242 \t 0.51 \t 0.46322606\n",
      "50 \t 6.052020533645052e+24 \t 0.7670388217305054 \t 0.521 \t 0.47935627\n"
     ]
    }
   ],
   "source": [
    "d_sfa = []\n",
    "d_sfa_sdf = []\n",
    "d_pmoo = []\n",
    "d_lp = []\n",
    "for (n, network) in NETWORK_LIST:\n",
    "    d_sfa +=[sfa_analysis(network, 0)]\n",
    "    d_sfa_sdf += [sfa_prio_analysis(network, 0)]\n",
    "    d_pmoo += [pmoo_analysis(network, 0)]\n",
    "    d_lp += [BlindLP(network).delay(0)]\n",
    "    print(n, \"\\t\", sfa_analysis(network, 0), \"\\t\", sfa_prio_analysis(network, 0), \"\\t\", \n",
    "          pmoo_analysis(network, 0), \"\\t\", BlindLP(network).delay(0))\n",
    "    "
   ]
  },
  {
   "cell_type": "code",
   "execution_count": 42,
   "id": "37ecf9d4",
   "metadata": {},
   "outputs": [
    {
     "data": {
      "text/plain": [
       "[]"
      ]
     },
     "execution_count": 42,
     "metadata": {},
     "output_type": "execute_result"
    },
    {
     "data": {
      "image/png": "[encoded data removed]",
      "text/plain": [
       "<Figure size 640x480 with 1 Axes>"
      ]
     },
     "metadata": {},
     "output_type": "display_data"
    }
   ],
   "source": [
    "plt.plot(range(1, N), d_sfa, label='SFA')\n",
    "plt.plot(range(1, N), d_sfa_sdf, label='SFA_SDF')\n",
    "plt.plot(range(1, N), d_pmoo, label='PMOO')\n",
    "plt.plot(range(1, N), d_lp, label='LP')\n",
    "plt.ylim([0, 0.6])\n",
    "plt.legend()\n",
    "plt.plot()"
   ]
  },
  {
   "cell_type": "code",
   "execution_count": null,
   "id": "8925f9e0",
   "metadata": {},
   "outputs": [],
   "source": [
    "NOte that for a small number of flows, PMOO is not better than SFA-SDF, and that all for a tandem of lengh 50, the omputation time\n",
    "is "
   ]
  },
  {
   "cell_type": "code",
   "execution_count": null,
   "id": "339afc85",
   "metadata": {},
   "outputs": [],
   "source": []
  }
 ],
 "metadata": {
  "kernelspec": {
   "display_name": "gaspi",
   "language": "python",
   "name": "gaspi"
  },
  "language_info": {
   "codemirror_mode": {
    "name": "ipython",
    "version": 3
   },
   "file_extension": ".py",
   "mimetype": "text/x-python",
   "name": "python",
   "nbconvert_exporter": "python",
   "pygments_lexer": "ipython3",
   "version": "3.12.3"
  }
 },
 "nbformat": 4,
 "nbformat_minor": 5
}
